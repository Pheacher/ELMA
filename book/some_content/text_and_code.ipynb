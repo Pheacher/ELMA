f(x)=a_0+\sum_(n=1)^\infty\of(a_n\ \cos\funcapply\begin n\pi x/L〗+b_n  sin⁡〖nπx/L〗 ) 
